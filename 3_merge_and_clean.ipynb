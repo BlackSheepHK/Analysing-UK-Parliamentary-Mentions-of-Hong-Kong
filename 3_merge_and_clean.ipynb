{
 "cells": [
  {
   "cell_type": "code",
   "execution_count": 1,
   "metadata": {},
   "outputs": [],
   "source": [
    "import numpy as np\n",
    "import pandas as pd\n",
    "from bs4 import BeautifulSoup"
   ]
  },
  {
   "cell_type": "code",
   "execution_count": 2,
   "metadata": {},
   "outputs": [],
   "source": [
    "hansard_hong_kong_df = pd.read_csv('intermediate_outputs/hansard_hong_kong.csv')\n",
    "scrape_results_df = pd.read_csv('intermediate_outputs/scrape_results.csv')\n",
    "\n",
    "merged_df = pd.merge(\n",
    "    hansard_hong_kong_df,\n",
    "    scrape_results_df,\n",
    "    how = 'left',\n",
    "    left_on = 'gid',\n",
    "    right_on = 'html_file_name',\n",
    "    suffixes = ('', '_collasped')\n",
    ")"
   ]
  },
  {
   "cell_type": "code",
   "execution_count": 3,
   "metadata": {},
   "outputs": [],
   "source": [
    "merged_df = merged_df.drop_duplicates()\n",
    "\n",
    "major_dict = {\n",
    "    '1': 'Commons debates',\n",
    "    '101': 'Lords debates',\n",
    "    '2': 'Westminster Hall debates',\n",
    "    '3': 'Written Answers',\n",
    "    '4': 'Written Ministerial Statements',\n",
    "    '5': 'Northern Ireland Assembly debates',\n",
    "    '6': 'Public Bill Committees',\n",
    "    '7': 'Scottish Parliament debates',\n",
    "    '8': 'Scottish Parliament written answers',\n",
    "    '9': 'Questions to the Mayor of London',\n",
    "    '10': 'Welsh Parliament record',\n",
    "    '11': 'Senedd Cymru Cofnod'\n",
    "}\n",
    "merged_df['debate_type'] = merged_df['major'].map(major_dict)\n",
    "merged_df['debate_type'].fillna('Other', inplace=True)\n",
    "\n",
    "minor_dict = {\n",
    "    0: 'Not applicable',\n",
    "    1: 'Question',\n",
    "    2: 'Answer'\n",
    "}\n",
    "merged_df['written_type'] = merged_df['minor'].map(minor_dict)\n",
    "merged_df['written_type'].fillna('Other', inplace=True)\n",
    "\n",
    "def extract_text_from_html(html_content):\n",
    "    if pd.notna(html_content) and isinstance(html_content, str):\n",
    "        soup = BeautifulSoup(html_content, 'html.parser')\n",
    "        return soup.get_text()\n",
    "    else:\n",
    "        return ''\n",
    "\n",
    "merged_df['body'] = merged_df['body'].apply(extract_text_from_html)\n",
    "merged_df['speech_body'] = np.where(\n",
    "    merged_df['collapsed'] == 0,\n",
    "    merged_df['body'],\n",
    "    merged_df['body_collasped']\n",
    ")\n",
    "merged_df = merged_df[(merged_df['speech_body'] != '') & (merged_df['speech_body'].notna())]\n",
    "\n",
    "merged_df['full_url'] = 'https://www.theyworkforyou.com/' + merged_df['listurl']\n",
    "\n",
    "merged_df['relevant_speeches'] = merged_df['collapsed'] + 1\n",
    "\n",
    "merged_df['speaker_id'] = np.where(\n",
    "    merged_df['collapsed'] == 0,\n",
    "    merged_df['person_id'],\n",
    "    merged_df['person_id_collasped']\n",
    ")\n",
    "merged_df['speaker_id'] = merged_df['speaker_id'].str.replace('Not found', 'Not found/Not an MP')\n",
    "merged_df['speaker_id'] = np.where(\n",
    "    (merged_df['speaker_id'].str.match(r'^\\d{1,4}$')) | (merged_df['speaker_id'].str.contains('wikipedia')),\n",
    "    'Not found/Not an MP',\n",
    "    merged_df['speaker_id']\n",
    ")\n",
    "\n",
    "merged_df = merged_df.drop(['htime', 'section_id', 'subsection_id', 'htype', 'major', 'minor', 'person_id', 'hpos', 'epobject_id', 'body', 'collapsed', 'relevance', 'extract', 'listurl', 'speaker_member_id', 'speaker_name', 'speaker_house', 'speaker_constituency', 'speaker_party', 'speaker_person_id', 'speaker_url', 'speaker_office', 'parent_listurl', 'person_id_collasped', 'body_collasped'], axis = 1)"
   ]
  },
  {
   "cell_type": "code",
   "execution_count": null,
   "metadata": {},
   "outputs": [],
   "source": [
    "merged_df.to_csv('intermediate_outputs/all_speeches.csv', index=False)"
   ]
  }
 ],
 "metadata": {
  "kernelspec": {
   "display_name": "Python 3",
   "language": "python",
   "name": "python3"
  },
  "language_info": {
   "codemirror_mode": {
    "name": "ipython",
    "version": 3
   },
   "file_extension": ".py",
   "mimetype": "text/x-python",
   "name": "python",
   "nbconvert_exporter": "python",
   "pygments_lexer": "ipython3",
   "version": "3.10.1"
  }
 },
 "nbformat": 4,
 "nbformat_minor": 2
}
