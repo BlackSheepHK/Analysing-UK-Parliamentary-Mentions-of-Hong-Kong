{
 "cells": [
  {
   "cell_type": "code",
   "execution_count": null,
   "metadata": {},
   "outputs": [],
   "source": [
    "# url = 'https://questions-statements-api.parliament.uk/api/writtenquestions/questions'\n",
    "# params = {\n",
    "#     '': ''\n",
    "# }\n",
    "# headers = {\n",
    "#     'Accept': 'application/json'\n",
    "# }\n",
    "\n",
    "# response = requests.get(url,\n",
    "#     # params=params,\n",
    "#     headers=headers,\n",
    "#     # auth=auth\n",
    "#     )\n",
    "\n",
    "# print(response)\n",
    "\n",
    "# print(json.dumps(response.json()['results'], indent=4, sort_keys=True))\n",
    "\n",
    "# https://oralquestionsandmotions-api.parliament.uk\n",
    "# https://questions-statements-api.parliament.uk/index.html"
   ]
  }
 ],
 "metadata": {
  "language_info": {
   "name": "python"
  }
 },
 "nbformat": 4,
 "nbformat_minor": 2
}
