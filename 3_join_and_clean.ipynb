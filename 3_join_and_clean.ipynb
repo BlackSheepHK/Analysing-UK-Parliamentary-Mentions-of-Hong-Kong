{
 "cells": [
  {
   "cell_type": "code",
   "execution_count": 8,
   "metadata": {},
   "outputs": [],
   "source": [
    "import numpy as np\n",
    "import pandas as pd\n",
    "from bs4 import BeautifulSoup"
   ]
  },
  {
   "cell_type": "code",
   "execution_count": 9,
   "metadata": {},
   "outputs": [
    {
     "name": "stdout",
     "output_type": "stream",
     "text": [
      "<class 'pandas.core.frame.DataFrame'>\n",
      "Int64Index: 16574 entries, 0 to 16573\n",
      "Data columns (total 30 columns):\n",
      " #   Column                Non-Null Count  Dtype  \n",
      "---  ------                --------------  -----  \n",
      " 0   gid                   16574 non-null  object \n",
      " 1   hdate                 16574 non-null  object \n",
      " 2   htime                 10782 non-null  object \n",
      " 3   section_id            16570 non-null  float64\n",
      " 4   subsection_id         16570 non-null  float64\n",
      " 5   htype                 16570 non-null  float64\n",
      " 6   major                 16574 non-null  object \n",
      " 7   minor                 16570 non-null  float64\n",
      " 8   person_id             16571 non-null  object \n",
      " 9   hpos                  16574 non-null  int64  \n",
      " 10  epobject_id           16570 non-null  float64\n",
      " 11  body                  15649 non-null  object \n",
      " 12  collapsed             16570 non-null  float64\n",
      " 13  relevance             16574 non-null  int64  \n",
      " 14  extract               16574 non-null  object \n",
      " 15  listurl               16574 non-null  object \n",
      " 16  parent_body           16574 non-null  object \n",
      " 17  speaker_member_id     14078 non-null  float64\n",
      " 18  speaker_name          14078 non-null  object \n",
      " 19  speaker_house         14078 non-null  float64\n",
      " 20  speaker_constituency  11707 non-null  object \n",
      " 21  speaker_party         7010 non-null   object \n",
      " 22  speaker_person_id     14078 non-null  float64\n",
      " 23  speaker_url           14078 non-null  object \n",
      " 24  speaker_office        14078 non-null  object \n",
      " 25  file_name             16574 non-null  object \n",
      " 26  parent_listurl        3015 non-null   object \n",
      " 27  html_file_name        12198 non-null  object \n",
      " 28  person_id_collasped   12198 non-null  object \n",
      " 29  body_collasped        12198 non-null  object \n",
      "dtypes: float64(9), int64(2), object(19)\n",
      "memory usage: 3.9+ MB\n"
     ]
    }
   ],
   "source": [
    "hansard_hong_kong_df = pd.read_csv('hansard_hong_kong.csv')\n",
    "scrape_results_df = pd.read_csv('scrape_results.csv')\n",
    "\n",
    "merged_df = pd.merge(\n",
    "    hansard_hong_kong_df,\n",
    "    scrape_results_df,\n",
    "    how = 'left',\n",
    "    left_on = 'gid',\n",
    "    right_on = 'html_file_name',\n",
    "    suffixes = ('', '_collasped')\n",
    ")\n",
    "\n",
    "merged_df.info()"
   ]
  },
  {
   "cell_type": "code",
   "execution_count": 10,
   "metadata": {},
   "outputs": [
    {
     "name": "stdout",
     "output_type": "stream",
     "text": [
      "<class 'pandas.core.frame.DataFrame'>\n",
      "Int64Index: 16436 entries, 0 to 16573\n",
      "Data columns (total 11 columns):\n",
      " #   Column             Non-Null Count  Dtype  \n",
      "---  ------             --------------  -----  \n",
      " 0   gid                16436 non-null  object \n",
      " 1   hdate              16436 non-null  object \n",
      " 2   parent_body        16436 non-null  object \n",
      " 3   file_name          16436 non-null  object \n",
      " 4   html_file_name     12169 non-null  object \n",
      " 5   debate_type        16436 non-null  object \n",
      " 6   written_type       16436 non-null  object \n",
      " 7   speech_body        16436 non-null  object \n",
      " 8   full_url           16436 non-null  object \n",
      " 9   relevant_speeches  16436 non-null  float64\n",
      " 10  speaker_id         16436 non-null  object \n",
      "dtypes: float64(1), object(10)\n",
      "memory usage: 1.5+ MB\n"
     ]
    }
   ],
   "source": [
    "merged_df = merged_df.drop_duplicates()\n",
    "\n",
    "major_dict = {\n",
    "    '1': 'Commons debates',\n",
    "    '101': 'Lords debates',\n",
    "    '2': 'Westminster Hall debates',\n",
    "    '3': 'Written Answers',\n",
    "    '4': 'Written Ministerial Statements',\n",
    "    '5': 'Northern Ireland Assembly debates',\n",
    "    '6': 'Public Bill Committees',\n",
    "    '7': 'Scottish Parliament debates',\n",
    "    '8': 'Scottish Parliament written answers',\n",
    "    '9': 'Questions to the Mayor of London',\n",
    "    '10': 'Welsh Parliament record',\n",
    "    '11': 'Senedd Cymru Cofnod'\n",
    "}\n",
    "merged_df['debate_type'] = merged_df['major'].map(major_dict)\n",
    "merged_df['debate_type'].fillna('Other', inplace=True)\n",
    "\n",
    "minor_dict = {\n",
    "    0: 'Not applicable',\n",
    "    1: 'Question',\n",
    "    2: 'Answer'\n",
    "}\n",
    "merged_df['written_type'] = merged_df['minor'].map(minor_dict)\n",
    "merged_df['written_type'].fillna('Other', inplace=True)\n",
    "\n",
    "def extract_text_from_html(html_content):\n",
    "    if pd.notna(html_content) and isinstance(html_content, str):\n",
    "        soup = BeautifulSoup(html_content, 'html.parser')\n",
    "        return soup.get_text()\n",
    "    else:\n",
    "        return ''\n",
    "merged_df['body'] = merged_df['body'].apply(extract_text_from_html)\n",
    "merged_df['speech_body'] = np.where(\n",
    "    merged_df['collapsed'] == 0,\n",
    "    merged_df['body'],\n",
    "    merged_df['body_collasped']\n",
    ")\n",
    "merged_df = merged_df[(merged_df['speech_body'] != '') & (merged_df['speech_body'].notna())]\n",
    "\n",
    "\n",
    "merged_df['full_url'] = 'https://www.theyworkforyou.com/' + merged_df['listurl']\n",
    "\n",
    "merged_df['relevant_speeches'] = merged_df['collapsed'] + 1\n",
    "\n",
    "merged_df['speaker_id'] = np.where(\n",
    "    merged_df['collapsed'] == 0,\n",
    "    merged_df['person_id'],\n",
    "    merged_df['person_id_collasped']\n",
    ")\n",
    "merged_df['speaker_id'] = merged_df['speaker_id'].str.replace('Not found', 'Not found/Not an MP')\n",
    "merged_df['speaker_id'] = np.where(\n",
    "    (merged_df['speaker_id'].str.match(r'^\\d{1,4}$')) | (merged_df['speaker_id'].str.contains('wikipedia')),\n",
    "    'Not found/Not an MP',\n",
    "    merged_df['speaker_id']\n",
    ")\n",
    "\n",
    "merged_df = merged_df.drop(['htime', 'section_id', 'subsection_id', 'htype', 'major', 'minor', 'person_id', 'hpos', 'epobject_id', 'body', 'collapsed', 'relevance', 'extract', 'listurl', 'speaker_member_id', 'speaker_name', 'speaker_house', 'speaker_constituency', 'speaker_party', 'speaker_person_id', 'speaker_url', 'speaker_office', 'parent_listurl', 'person_id_collasped', 'body_collasped'], axis = 1)\n",
    "\n",
    "merged_df.info()\n"
   ]
  },
  {
   "cell_type": "code",
   "execution_count": 11,
   "metadata": {},
   "outputs": [],
   "source": [
    "merged_df.to_csv('all_speeches.csv', index=False)"
   ]
  }
 ],
 "metadata": {
  "kernelspec": {
   "display_name": "Python 3",
   "language": "python",
   "name": "python3"
  },
  "language_info": {
   "codemirror_mode": {
    "name": "ipython",
    "version": 3
   },
   "file_extension": ".py",
   "mimetype": "text/x-python",
   "name": "python",
   "nbconvert_exporter": "python",
   "pygments_lexer": "ipython3",
   "version": "3.10.1"
  }
 },
 "nbformat": 4,
 "nbformat_minor": 2
}
