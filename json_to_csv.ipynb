{
 "cells": [
  {
   "cell_type": "code",
   "execution_count": 2,
   "metadata": {},
   "outputs": [],
   "source": [
    "import json\n",
    "import os\n",
    "from tqdm import tqdm\n",
    "import pandas as pd"
   ]
  },
  {
   "cell_type": "code",
   "execution_count": 3,
   "metadata": {},
   "outputs": [
    {
     "name": "stderr",
     "output_type": "stream",
     "text": [
      "Processing: 100%|██████████| 9/9 [00:00<00:00, 10.51it/s]"
     ]
    },
    {
     "name": "stdout",
     "output_type": "stream",
     "text": [
      "<class 'pandas.core.frame.DataFrame'>\n",
      "RangeIndex: 7683 entries, 0 to 7682\n",
      "Data columns (total 27 columns):\n",
      " #   Column                Non-Null Count  Dtype  \n",
      "---  ------                --------------  -----  \n",
      " 0   gid                   7683 non-null   object \n",
      " 1   hdate                 7683 non-null   object \n",
      " 2   htime                 4424 non-null   object \n",
      " 3   section_id            7679 non-null   object \n",
      " 4   subsection_id         7679 non-null   object \n",
      " 5   htype                 7679 non-null   object \n",
      " 6   major                 7683 non-null   object \n",
      " 7   minor                 7679 non-null   object \n",
      " 8   person_id             7680 non-null   object \n",
      " 9   hpos                  7683 non-null   object \n",
      " 10  epobject_id           7679 non-null   object \n",
      " 11  body                  7683 non-null   object \n",
      " 12  collapsed             7679 non-null   float64\n",
      " 13  relevance             7683 non-null   int64  \n",
      " 14  extract               7683 non-null   object \n",
      " 15  listurl               7683 non-null   object \n",
      " 16  parent_body           7683 non-null   object \n",
      " 17  speaker_member_id     6841 non-null   object \n",
      " 18  speaker_name          6841 non-null   object \n",
      " 19  speaker_house         6841 non-null   object \n",
      " 20  speaker_constituency  6841 non-null   object \n",
      " 21  speaker_party         6841 non-null   object \n",
      " 22  speaker_person_id     6841 non-null   object \n",
      " 23  speaker_url           6841 non-null   object \n",
      " 24  speaker_office        6841 non-null   object \n",
      " 25  file_name             7683 non-null   object \n",
      " 26  parent_listurl        2094 non-null   object \n",
      "dtypes: float64(1), int64(1), object(25)\n",
      "memory usage: 1.6+ MB\n"
     ]
    },
    {
     "name": "stderr",
     "output_type": "stream",
     "text": [
      "\n"
     ]
    }
   ],
   "source": [
    "directory = 'hansard_hong_kong'\n",
    "df = pd.DataFrame()\n",
    "for filename in tqdm(os.listdir(directory), desc='Processing'):\n",
    "    if filename.endswith(\".json\"):\n",
    "        file_path = os.path.join(directory, filename)\n",
    "        with open(file_path) as file:\n",
    "            data = json.load(file)\n",
    "        data_df = pd.json_normalize(data,\n",
    "            record_path=['rows'],\n",
    "            sep='_')\n",
    "        data_df['file_name'] = filename\n",
    "        df = pd.concat([df, data_df], ignore_index=True)\n",
    "df = df.dropna(thresh=100, axis=1)\n",
    "df.info()"
   ]
  },
  {
   "cell_type": "code",
   "execution_count": 4,
   "metadata": {},
   "outputs": [],
   "source": [
    "df.to_csv('hansard_hong_kong.csv', index=False)"
   ]
  }
 ],
 "metadata": {
  "kernelspec": {
   "display_name": "Python 3",
   "language": "python",
   "name": "python3"
  },
  "language_info": {
   "codemirror_mode": {
    "name": "ipython",
    "version": 3
   },
   "file_extension": ".py",
   "mimetype": "text/x-python",
   "name": "python",
   "nbconvert_exporter": "python",
   "pygments_lexer": "ipython3",
   "version": "3.10.1"
  }
 },
 "nbformat": 4,
 "nbformat_minor": 2
}
