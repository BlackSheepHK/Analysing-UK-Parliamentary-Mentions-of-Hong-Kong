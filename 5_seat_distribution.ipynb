{
 "cells": [
  {
   "cell_type": "code",
   "execution_count": 1,
   "metadata": {},
   "outputs": [],
   "source": [
    "import pandas as pd\n",
    "import numpy as np\n",
    "import json"
   ]
  },
  {
   "cell_type": "code",
   "execution_count": 2,
   "metadata": {},
   "outputs": [],
   "source": [
    "person_dict = json.load(open('people.json'))"
   ]
  },
  {
   "cell_type": "code",
   "execution_count": 49,
   "metadata": {},
   "outputs": [],
   "source": [
    "memberships_df = pd.DataFrame(person_dict['memberships'])\n",
    "memberships_df.rename({\n",
    "    'id': 'membership_id',\n",
    "    'on_behalf_of_id': 'party_id',\n",
    "    'start_date': 'membership_start_date',\n",
    "    'end_date': 'membership_end_date'\n",
    "    }, axis = 1, inplace = True)\n",
    "memberships_df.drop(['end_reason', 'identifiers', 'start_reason', 'role', 'redirect', 'reason', 'name', 'organization_id'], axis = 1, inplace = True)\n",
    "memberships_df.dropna(subset=['person_id'], inplace = True)\n",
    "\n",
    "posts_df = pd.json_normalize(person_dict['posts'], sep = '_')\n",
    "posts_df.rename({\n",
    "    'id': 'post_id',\n",
    "    'label': 'post_name',\n",
    "    'area_name': 'post_area_name'\n",
    "    }, axis = 1, inplace = True)\n",
    "posts_df.drop(['identifiers', 'organization_id', 'role', 'start_date', 'end_date'], axis = 1, inplace = True)\n",
    "\n",
    "parties_df = pd.DataFrame(person_dict['organizations'])\n",
    "parties_df.rename({\n",
    "    'id': 'party_id',\n",
    "    'name': 'party_name'\n",
    "    }, axis = 1, inplace = True)\n",
    "parties_df['party_name'] = parties_df['party_name'].str.replace('Labour/Co-operative', 'Labour')\n",
    "parties_df.drop(['classification', 'identifiers'], axis = 1, inplace = True)"
   ]
  },
  {
   "cell_type": "code",
   "execution_count": 31,
   "metadata": {},
   "outputs": [],
   "source": [
    "memberships_posts_df = pd.merge(\n",
    "    memberships_df,\n",
    "    posts_df,\n",
    "    how = 'left',\n",
    "    left_on = 'post_id',\n",
    "    right_on = 'post_id'\n",
    ")\n",
    "\n",
    "memberships_posts_parties_df = pd.merge(\n",
    "    memberships_posts_df,\n",
    "    parties_df,\n",
    "    how = 'left',\n",
    "    left_on = 'party_id',\n",
    "    right_on = 'party_id'\n",
    ")\n",
    "\n",
    "uk_parliament_df = memberships_posts_parties_df[(memberships_posts_parties_df['label'] == 'Peer') | (memberships_posts_parties_df['post_name'].str.contains('Member of Parliament'))].copy()\n",
    "\n",
    "uk_parliament_df['label'] = np.where(\n",
    "    uk_parliament_df['label'].isna(),\n",
    "    'Member of Parliament',\n",
    "    uk_parliament_df['label']\n",
    ")\n",
    "\n",
    "uk_parliament_df['membership_start_date'] = pd.to_datetime(uk_parliament_df['membership_start_date'])\n",
    "uk_parliament_df['membership_end_date'] = pd.to_datetime(uk_parliament_df['membership_end_date'])\n",
    "\n",
    "uk_parliament_df = uk_parliament_df[(uk_parliament_df['membership_end_date'].isna()) | (uk_parliament_df['membership_end_date'] >= '2001-01-01')]"
   ]
  },
  {
   "cell_type": "code",
   "execution_count": 45,
   "metadata": {},
   "outputs": [],
   "source": [
    "lords_df = pd.DataFrame()\n",
    "commons_df = pd.DataFrame()\n",
    "monthly_series = pd.date_range(start='2001-01-01', end='2023-12-01', freq='MS')\n",
    "\n",
    "for month in monthly_series:\n",
    "    filtered_df = uk_parliament_df[\n",
    "        (uk_parliament_df['membership_start_date'] <= month) &\n",
    "        (uk_parliament_df['membership_end_date'].fillna(pd.Timestamp('now')) >= month)\n",
    "    ].copy()\n",
    "    filtered_df.drop_duplicates(subset='person_id', inplace=True)\n",
    "    grouped = filtered_df.groupby(['label', 'party_name']).size().reset_index(name='count')\n",
    "    pivoted = grouped.pivot(index='label', columns='party_name', values='count')\n",
    "    pivoted.reset_index(inplace=True)\n",
    "    lords_month = pivoted[pivoted['label'] == 'Peer'].copy()\n",
    "    lords_month.dropna(axis=1, how='all', inplace=True)\n",
    "    lords_month.insert(0, 'month', month)\n",
    "    lords_df = pd.concat([lords_df, lords_month], axis=0)\n",
    "    commons_month = pivoted[pivoted['label'] == 'Member of Parliament'].copy()\n",
    "    commons_month.dropna(axis=1, how='all', inplace=True)\n",
    "    commons_month.insert(0, 'month', month)\n",
    "    commons_df = pd.concat([commons_df, commons_month], axis=0)\n",
    "\n",
    "lords_df['total_seats'] = lords_df.sum(axis=1, numeric_only=True, skipna=True)\n",
    "commons_df['total_seats'] = commons_df.sum(axis=1, numeric_only=True, skipna=True)"
   ]
  },
  {
   "cell_type": "code",
   "execution_count": 58,
   "metadata": {},
   "outputs": [],
   "source": [
    "both_houses_df = pd.DataFrame()\n",
    "monthly_series = pd.date_range(start='2001-01-01', end='2023-12-01', freq='MS')\n",
    "\n",
    "for month in monthly_series:\n",
    "    filtered_df = uk_parliament_df[\n",
    "        (uk_parliament_df['membership_start_date'] <= month) &\n",
    "        (uk_parliament_df['membership_end_date'].fillna(pd.Timestamp('now')) >= month)\n",
    "    ].copy()\n",
    "    filtered_df.drop_duplicates(subset='person_id', inplace=True)\n",
    "    grouped = filtered_df.groupby('party_name').size().reset_index(name='count')\n",
    "    grouped['constant'] = 0\n",
    "    pivoted = grouped.pivot(index='constant', columns='party_name', values='count')\n",
    "    pivoted.reset_index(inplace=True)\n",
    "    pivoted.drop('constant', axis=1, inplace=True)\n",
    "    pivoted.insert(0, 'month', month)\n",
    "    both_houses_df = pd.concat([both_houses_df, pivoted], axis=0)\n",
    "\n",
    "both_houses_df['total_seats'] = both_houses_df.sum(axis=1, numeric_only=True, skipna=True)"
   ]
  },
  {
   "cell_type": "code",
   "execution_count": null,
   "metadata": {},
   "outputs": [],
   "source": [
    "lords_df.to_csv('intermediate_outputs/monthly_lords_membership.csv', index=False)\n",
    "commons_df.to_csv('intermediate_outputs/monthly_commons_membership.csv', index=False)\n",
    "both_houses_df.to_csv('intermediate_outputs/monthly_uk_parliament_membership.csv', index=False)"
   ]
  }
 ],
 "metadata": {
  "kernelspec": {
   "display_name": "Python 3",
   "language": "python",
   "name": "python3"
  },
  "language_info": {
   "codemirror_mode": {
    "name": "ipython",
    "version": 3
   },
   "file_extension": ".py",
   "mimetype": "text/x-python",
   "name": "python",
   "nbconvert_exporter": "python",
   "pygments_lexer": "ipython3",
   "version": "3.10.1"
  }
 },
 "nbformat": 4,
 "nbformat_minor": 2
}
